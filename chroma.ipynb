{
  "cells": [
    {
      "cell_type": "markdown",
      "metadata": {
        "id": "view-in-github",
        "colab_type": "text"
      },
      "source": [
        "<a href=\"https://colab.research.google.com/github/Moostafaaa/chromadb_Langchain/blob/main/chroma.ipynb\" target=\"_parent\"><img src=\"https://colab.research.google.com/assets/colab-badge.svg\" alt=\"Open In Colab\"/></a>"
      ]
    },
    {
      "cell_type": "code",
      "execution_count": null,
      "metadata": {
        "id": "PUlrnX0k_oVP"
      },
      "outputs": [],
      "source": [
        "!pip install  openai langchain sentence_transformers chromadb unstructured -q"
      ]
    },
    {
      "cell_type": "code",
      "execution_count": null,
      "metadata": {
        "colab": {
          "background_save": true,
          "base_uri": "https://localhost:8080/"
        },
        "id": "R2L9CVcaB5Zp",
        "outputId": "b84cd46f-6515-4648-fedd-5c487c871f1f"
      },
      "outputs": [
        {
          "name": "stdout",
          "output_type": "stream",
          "text": [
            "Collecting datasets\n",
            "  Downloading datasets-2.14.3-py3-none-any.whl (519 kB)\n",
            "\u001b[2K     \u001b[90m━━━━━━━━━━━━━━━━━━━━━━━━━━━━━━━━━━━━━━━\u001b[0m \u001b[32m519.1/519.1 kB\u001b[0m \u001b[31m5.4 MB/s\u001b[0m eta \u001b[36m0:00:00\u001b[0m\n",
            "\u001b[?25hRequirement already satisfied: numpy>=1.17 in /usr/local/lib/python3.10/dist-packages (from datasets) (1.22.4)\n",
            "Requirement already satisfied: pyarrow>=8.0.0 in /usr/local/lib/python3.10/dist-packages (from datasets) (9.0.0)\n",
            "Collecting dill<0.3.8,>=0.3.0 (from datasets)\n",
            "  Downloading dill-0.3.7-py3-none-any.whl (115 kB)\n",
            "\u001b[2K     \u001b[90m━━━━━━━━━━━━━━━━━━━━━━━━━━━━━━━━━━━━━━━\u001b[0m \u001b[32m115.3/115.3 kB\u001b[0m \u001b[31m8.3 MB/s\u001b[0m eta \u001b[36m0:00:00\u001b[0m\n",
            "\u001b[?25hRequirement already satisfied: pandas in /usr/local/lib/python3.10/dist-packages (from datasets) (1.5.3)\n",
            "Requirement already satisfied: requests>=2.19.0 in /usr/local/lib/python3.10/dist-packages (from datasets) (2.31.0)\n",
            "Requirement already satisfied: tqdm>=4.62.1 in /usr/local/lib/python3.10/dist-packages (from datasets) (4.65.0)\n",
            "Collecting xxhash (from datasets)\n",
            "  Downloading xxhash-3.3.0-cp310-cp310-manylinux_2_17_x86_64.manylinux2014_x86_64.whl (194 kB)\n",
            "\u001b[2K     \u001b[90m━━━━━━━━━━━━━━━━━━━━━━━━━━━━━━━━━━━━━━━\u001b[0m \u001b[32m194.1/194.1 kB\u001b[0m \u001b[31m8.8 MB/s\u001b[0m eta \u001b[36m0:00:00\u001b[0m\n",
            "\u001b[?25hCollecting multiprocess (from datasets)\n",
            "  Downloading multiprocess-0.70.15-py310-none-any.whl (134 kB)\n",
            "\u001b[2K     \u001b[90m━━━━━━━━━━━━━━━━━━━━━━━━━━━━━━━━━━━━━━━\u001b[0m \u001b[32m134.8/134.8 kB\u001b[0m \u001b[31m7.5 MB/s\u001b[0m eta \u001b[36m0:00:00\u001b[0m\n",
            "\u001b[?25hRequirement already satisfied: fsspec[http]>=2021.11.1 in /usr/local/lib/python3.10/dist-packages (from datasets) (2023.6.0)\n",
            "Requirement already satisfied: aiohttp in /usr/local/lib/python3.10/dist-packages (from datasets) (3.8.5)\n",
            "Requirement already satisfied: huggingface-hub<1.0.0,>=0.14.0 in /usr/local/lib/python3.10/dist-packages (from datasets) (0.16.4)\n",
            "Requirement already satisfied: packaging in /usr/local/lib/python3.10/dist-packages (from datasets) (23.1)\n",
            "Requirement already satisfied: pyyaml>=5.1 in /usr/local/lib/python3.10/dist-packages (from datasets) (6.0.1)\n",
            "Requirement already satisfied: attrs>=17.3.0 in /usr/local/lib/python3.10/dist-packages (from aiohttp->datasets) (23.1.0)\n",
            "Requirement already satisfied: charset-normalizer<4.0,>=2.0 in /usr/local/lib/python3.10/dist-packages (from aiohttp->datasets) (2.0.12)\n",
            "Requirement already satisfied: multidict<7.0,>=4.5 in /usr/local/lib/python3.10/dist-packages (from aiohttp->datasets) (6.0.4)\n",
            "Requirement already satisfied: async-timeout<5.0,>=4.0.0a3 in /usr/local/lib/python3.10/dist-packages (from aiohttp->datasets) (4.0.2)\n",
            "Requirement already satisfied: yarl<2.0,>=1.0 in /usr/local/lib/python3.10/dist-packages (from aiohttp->datasets) (1.9.2)\n",
            "Requirement already satisfied: frozenlist>=1.1.1 in /usr/local/lib/python3.10/dist-packages (from aiohttp->datasets) (1.4.0)\n",
            "Requirement already satisfied: aiosignal>=1.1.2 in /usr/local/lib/python3.10/dist-packages (from aiohttp->datasets) (1.3.1)\n",
            "Requirement already satisfied: filelock in /usr/local/lib/python3.10/dist-packages (from huggingface-hub<1.0.0,>=0.14.0->datasets) (3.12.2)\n",
            "Requirement already satisfied: typing-extensions>=3.7.4.3 in /usr/local/lib/python3.10/dist-packages (from huggingface-hub<1.0.0,>=0.14.0->datasets) (4.7.1)\n",
            "Requirement already satisfied: idna<4,>=2.5 in /usr/local/lib/python3.10/dist-packages (from requests>=2.19.0->datasets) (3.4)\n",
            "Requirement already satisfied: urllib3<3,>=1.21.1 in /usr/local/lib/python3.10/dist-packages (from requests>=2.19.0->datasets) (1.26.16)\n",
            "Requirement already satisfied: certifi>=2017.4.17 in /usr/local/lib/python3.10/dist-packages (from requests>=2.19.0->datasets) (2023.7.22)\n",
            "Requirement already satisfied: python-dateutil>=2.8.1 in /usr/local/lib/python3.10/dist-packages (from pandas->datasets) (2.8.2)\n",
            "Requirement already satisfied: pytz>=2020.1 in /usr/local/lib/python3.10/dist-packages (from pandas->datasets) (2022.7.1)\n",
            "Requirement already satisfied: six>=1.5 in /usr/local/lib/python3.10/dist-packages (from python-dateutil>=2.8.1->pandas->datasets) (1.16.0)\n",
            "Installing collected packages: xxhash, dill, multiprocess, datasets\n",
            "Successfully installed datasets-2.14.3 dill-0.3.7 multiprocess-0.70.15 xxhash-3.3.0\n"
          ]
        }
      ],
      "source": [
        "! pip install datasets"
      ]
    },
    {
      "cell_type": "code",
      "execution_count": null,
      "metadata": {
        "id": "nbh_tcSv_5R-"
      },
      "outputs": [],
      "source": [
        "from datasets import load_dataset\n",
        "\n",
        "\n",
        "dataset_name = 'cais/mmlu'\n",
        "dataset = load_dataset(dataset_name)"
      ]
    },
    {
      "cell_type": "code",
      "execution_count": null,
      "metadata": {
        "colab": {
          "base_uri": "https://localhost:8080/"
        },
        "id": "47JFtaUUCLa4",
        "outputId": "5752ad53-af9a-4968-8956-6c67b7ada378"
      },
      "outputs": [
        {
          "data": {
            "text/plain": [
              "datasets.arrow_dataset.Dataset"
            ]
          },
          "execution_count": 4,
          "metadata": {},
          "output_type": "execute_result"
        }
      ],
      "source": [
        "type(dataset['train'])"
      ]
    },
    {
      "cell_type": "code",
      "execution_count": null,
      "metadata": {
        "id": "QeOyX2yuHTOw"
      },
      "outputs": [],
      "source": [
        "import pandas as pd"
      ]
    },
    {
      "cell_type": "code",
      "execution_count": null,
      "metadata": {
        "id": "0dj--XI7F5JW"
      },
      "outputs": [],
      "source": [
        "df_train = pd.DataFrame(dataset['train'])"
      ]
    },
    {
      "cell_type": "code",
      "execution_count": null,
      "metadata": {
        "colab": {
          "base_uri": "https://localhost:8080/",
          "height": 1000
        },
        "id": "9wJNqR69Hf_E",
        "outputId": "e58d5e71-3401-4f9a-bf3b-e245f843c007"
      },
      "outputs": [
        {
          "data": {
            "text/html": [
              "\n",
              "\n",
              "  <div id=\"df-5e99468c-c7e1-4258-b8f2-40e1e0cb213a\">\n",
              "    <div class=\"colab-df-container\">\n",
              "      <div>\n",
              "<style scoped>\n",
              "    .dataframe tbody tr th:only-of-type {\n",
              "        vertical-align: middle;\n",
              "    }\n",
              "\n",
              "    .dataframe tbody tr th {\n",
              "        vertical-align: top;\n",
              "    }\n",
              "\n",
              "    .dataframe thead th {\n",
              "        text-align: right;\n",
              "    }\n",
              "</style>\n",
              "<table border=\"1\" class=\"dataframe\">\n",
              "  <thead>\n",
              "    <tr style=\"text-align: right;\">\n",
              "      <th></th>\n",
              "      <th>id</th>\n",
              "      <th>question</th>\n",
              "      <th>opa</th>\n",
              "      <th>opb</th>\n",
              "      <th>opc</th>\n",
              "      <th>opd</th>\n",
              "      <th>cop</th>\n",
              "      <th>choice_type</th>\n",
              "      <th>exp</th>\n",
              "      <th>subject_name</th>\n",
              "      <th>topic_name</th>\n",
              "    </tr>\n",
              "  </thead>\n",
              "  <tbody>\n",
              "    <tr>\n",
              "      <th>0</th>\n",
              "      <td>e9ad821a-c438-4965-9f77-760819dfa155</td>\n",
              "      <td>Chronic urethral obstruction due to benign pri...</td>\n",
              "      <td>Hyperplasia</td>\n",
              "      <td>Hyperophy</td>\n",
              "      <td>Atrophy</td>\n",
              "      <td>Dyplasia</td>\n",
              "      <td>2</td>\n",
              "      <td>single</td>\n",
              "      <td>Chronic urethral obstruction because of urinar...</td>\n",
              "      <td>Anatomy</td>\n",
              "      <td>Urinary tract</td>\n",
              "    </tr>\n",
              "    <tr>\n",
              "      <th>1</th>\n",
              "      <td>e3d3c4e1-4fb2-45e7-9f88-247cc8f373b3</td>\n",
              "      <td>Which vitamin is supplied from only animal sou...</td>\n",
              "      <td>Vitamin C</td>\n",
              "      <td>Vitamin B7</td>\n",
              "      <td>Vitamin B12</td>\n",
              "      <td>Vitamin D</td>\n",
              "      <td>2</td>\n",
              "      <td>single</td>\n",
              "      <td>Ans. (c) Vitamin B12 Ref: Harrison's 19th ed. ...</td>\n",
              "      <td>Biochemistry</td>\n",
              "      <td>Vitamins and Minerals</td>\n",
              "    </tr>\n",
              "    <tr>\n",
              "      <th>2</th>\n",
              "      <td>5c38bea6-787a-44a9-b2df-88f4218ab914</td>\n",
              "      <td>All of the following are surgical options for ...</td>\n",
              "      <td>Adjustable gastric banding</td>\n",
              "      <td>Biliopancreatic diversion</td>\n",
              "      <td>Duodenal Switch</td>\n",
              "      <td>Roux en Y Duodenal By pass</td>\n",
              "      <td>3</td>\n",
              "      <td>multi</td>\n",
              "      <td>Ans. is 'd' i.e., Roux en Y Duodenal Bypass Ba...</td>\n",
              "      <td>Surgery</td>\n",
              "      <td>Surgical Treatment Obesity</td>\n",
              "    </tr>\n",
              "    <tr>\n",
              "      <th>3</th>\n",
              "      <td>cdeedb04-fbe9-432c-937c-d53ac24475de</td>\n",
              "      <td>Following endaerectomy on the right common car...</td>\n",
              "      <td>Central aery of the retina</td>\n",
              "      <td>Infraorbital aery</td>\n",
              "      <td>Lacrimal aery</td>\n",
              "      <td>Nasociliary aretry</td>\n",
              "      <td>0</td>\n",
              "      <td>multi</td>\n",
              "      <td>The central aery of the retina is a branch of ...</td>\n",
              "      <td>Ophthalmology</td>\n",
              "      <td>None</td>\n",
              "    </tr>\n",
              "    <tr>\n",
              "      <th>4</th>\n",
              "      <td>dc6794a3-b108-47c5-8b1b-3b4931577249</td>\n",
              "      <td>Growth hormone has its effect on growth through?</td>\n",
              "      <td>Directly</td>\n",
              "      <td>IG1-1</td>\n",
              "      <td>Thyroxine</td>\n",
              "      <td>Intranuclear receptors</td>\n",
              "      <td>1</td>\n",
              "      <td>single</td>\n",
              "      <td>Ans. is 'b' i.e., IGI-1GH has two major functi...</td>\n",
              "      <td>Physiology</td>\n",
              "      <td>None</td>\n",
              "    </tr>\n",
              "    <tr>\n",
              "      <th>...</th>\n",
              "      <td>...</td>\n",
              "      <td>...</td>\n",
              "      <td>...</td>\n",
              "      <td>...</td>\n",
              "      <td>...</td>\n",
              "      <td>...</td>\n",
              "      <td>...</td>\n",
              "      <td>...</td>\n",
              "      <td>...</td>\n",
              "      <td>...</td>\n",
              "      <td>...</td>\n",
              "    </tr>\n",
              "    <tr>\n",
              "      <th>182817</th>\n",
              "      <td>04519631-61e3-4ef4-b2d6-c352cf349ded</td>\n",
              "      <td>Most common site for extra mammary Paget&amp;;s di...</td>\n",
              "      <td>Vulva</td>\n",
              "      <td>Vagina</td>\n",
              "      <td>Penis</td>\n",
              "      <td>Anus</td>\n",
              "      <td>0</td>\n",
              "      <td>single</td>\n",
              "      <td>.It is superficial manifestation of an intradu...</td>\n",
              "      <td>Surgery</td>\n",
              "      <td>Urology</td>\n",
              "    </tr>\n",
              "    <tr>\n",
              "      <th>182818</th>\n",
              "      <td>fa6b40a1-459a-401c-96e7-fac5608e7744</td>\n",
              "      <td>Inferior Rib notching is seen in all except?</td>\n",
              "      <td>Coarctation of aoa</td>\n",
              "      <td>Classical blalock tausing operation</td>\n",
              "      <td>SVC obstruction</td>\n",
              "      <td>Neurofibromatosis</td>\n",
              "      <td>3</td>\n",
              "      <td>multi</td>\n",
              "      <td>Answer is D (Neurofibromatosis) Neurofibromato...</td>\n",
              "      <td>Medicine</td>\n",
              "      <td>None</td>\n",
              "    </tr>\n",
              "    <tr>\n",
              "      <th>182819</th>\n",
              "      <td>4ecebffe-72f6-4988-8d64-738e43ad6086</td>\n",
              "      <td>Which is false regarding cryptococcus neoformans?</td>\n",
              "      <td>Grows at 5degC and 37degC</td>\n",
              "      <td>It has 4 serotypes</td>\n",
              "      <td>Urease negative</td>\n",
              "      <td>Causes superficial skin infection</td>\n",
              "      <td>2</td>\n",
              "      <td>multi</td>\n",
              "      <td>Ans. is 'c' i e., Urease negative Cryptococcus...</td>\n",
              "      <td>Microbiology</td>\n",
              "      <td>None</td>\n",
              "    </tr>\n",
              "    <tr>\n",
              "      <th>182820</th>\n",
              "      <td>7cf99676-f2b5-4f6d-9cf5-03ff7651afb3</td>\n",
              "      <td>Histopathological finding of gluten hypersensi...</td>\n",
              "      <td>Crypt hyperplasia</td>\n",
              "      <td>Increase in thickness of the mucosa</td>\n",
              "      <td>Distal intestine involvement</td>\n",
              "      <td>Villous hypertrophy</td>\n",
              "      <td>0</td>\n",
              "      <td>single</td>\n",
              "      <td>Ans. is 'a' i.e., Crypt hyperplasia Histopatho...</td>\n",
              "      <td>Pathology</td>\n",
              "      <td>G.I.T.</td>\n",
              "    </tr>\n",
              "    <tr>\n",
              "      <th>182821</th>\n",
              "      <td>b6130415-f3ab-464a-8854-9a1811d8f8f9</td>\n",
              "      <td>All except one are centrally acting muscle blo...</td>\n",
              "      <td>Meprobamate</td>\n",
              "      <td>Baclofen</td>\n",
              "      <td>Diazepam</td>\n",
              "      <td>Dantrolene sodium</td>\n",
              "      <td>3</td>\n",
              "      <td>multi</td>\n",
              "      <td>None</td>\n",
              "      <td>Pharmacology</td>\n",
              "      <td>None</td>\n",
              "    </tr>\n",
              "  </tbody>\n",
              "</table>\n",
              "<p>182822 rows × 11 columns</p>\n",
              "</div>\n",
              "      <button class=\"colab-df-convert\" onclick=\"convertToInteractive('df-5e99468c-c7e1-4258-b8f2-40e1e0cb213a')\"\n",
              "              title=\"Convert this dataframe to an interactive table.\"\n",
              "              style=\"display:none;\">\n",
              "\n",
              "  <svg xmlns=\"http://www.w3.org/2000/svg\" height=\"24px\"viewBox=\"0 0 24 24\"\n",
              "       width=\"24px\">\n",
              "    <path d=\"M0 0h24v24H0V0z\" fill=\"none\"/>\n",
              "    <path d=\"M18.56 5.44l.94 2.06.94-2.06 2.06-.94-2.06-.94-.94-2.06-.94 2.06-2.06.94zm-11 1L8.5 8.5l.94-2.06 2.06-.94-2.06-.94L8.5 2.5l-.94 2.06-2.06.94zm10 10l.94 2.06.94-2.06 2.06-.94-2.06-.94-.94-2.06-.94 2.06-2.06.94z\"/><path d=\"M17.41 7.96l-1.37-1.37c-.4-.4-.92-.59-1.43-.59-.52 0-1.04.2-1.43.59L10.3 9.45l-7.72 7.72c-.78.78-.78 2.05 0 2.83L4 21.41c.39.39.9.59 1.41.59.51 0 1.02-.2 1.41-.59l7.78-7.78 2.81-2.81c.8-.78.8-2.07 0-2.86zM5.41 20L4 18.59l7.72-7.72 1.47 1.35L5.41 20z\"/>\n",
              "  </svg>\n",
              "      </button>\n",
              "\n",
              "\n",
              "\n",
              "    <div id=\"df-1a009c2a-6b62-4537-84ba-35b266ea5c13\">\n",
              "      <button class=\"colab-df-quickchart\" onclick=\"quickchart('df-1a009c2a-6b62-4537-84ba-35b266ea5c13')\"\n",
              "              title=\"Suggest charts.\"\n",
              "              style=\"display:none;\">\n",
              "\n",
              "<svg xmlns=\"http://www.w3.org/2000/svg\" height=\"24px\"viewBox=\"0 0 24 24\"\n",
              "     width=\"24px\">\n",
              "    <g>\n",
              "        <path d=\"M19 3H5c-1.1 0-2 .9-2 2v14c0 1.1.9 2 2 2h14c1.1 0 2-.9 2-2V5c0-1.1-.9-2-2-2zM9 17H7v-7h2v7zm4 0h-2V7h2v10zm4 0h-2v-4h2v4z\"/>\n",
              "    </g>\n",
              "</svg>\n",
              "      </button>\n",
              "    </div>\n",
              "\n",
              "<style>\n",
              "  .colab-df-quickchart {\n",
              "    background-color: #E8F0FE;\n",
              "    border: none;\n",
              "    border-radius: 50%;\n",
              "    cursor: pointer;\n",
              "    display: none;\n",
              "    fill: #1967D2;\n",
              "    height: 32px;\n",
              "    padding: 0 0 0 0;\n",
              "    width: 32px;\n",
              "  }\n",
              "\n",
              "  .colab-df-quickchart:hover {\n",
              "    background-color: #E2EBFA;\n",
              "    box-shadow: 0px 1px 2px rgba(60, 64, 67, 0.3), 0px 1px 3px 1px rgba(60, 64, 67, 0.15);\n",
              "    fill: #174EA6;\n",
              "  }\n",
              "\n",
              "  [theme=dark] .colab-df-quickchart {\n",
              "    background-color: #3B4455;\n",
              "    fill: #D2E3FC;\n",
              "  }\n",
              "\n",
              "  [theme=dark] .colab-df-quickchart:hover {\n",
              "    background-color: #434B5C;\n",
              "    box-shadow: 0px 1px 3px 1px rgba(0, 0, 0, 0.15);\n",
              "    filter: drop-shadow(0px 1px 2px rgba(0, 0, 0, 0.3));\n",
              "    fill: #FFFFFF;\n",
              "  }\n",
              "</style>\n",
              "\n",
              "    <script>\n",
              "      async function quickchart(key) {\n",
              "        const containerElement = document.querySelector('#' + key);\n",
              "        const charts = await google.colab.kernel.invokeFunction(\n",
              "            'suggestCharts', [key], {});\n",
              "      }\n",
              "    </script>\n",
              "\n",
              "      <script>\n",
              "\n",
              "function displayQuickchartButton(domScope) {\n",
              "  let quickchartButtonEl =\n",
              "    domScope.querySelector('#df-1a009c2a-6b62-4537-84ba-35b266ea5c13 button.colab-df-quickchart');\n",
              "  quickchartButtonEl.style.display =\n",
              "    google.colab.kernel.accessAllowed ? 'block' : 'none';\n",
              "}\n",
              "\n",
              "        displayQuickchartButton(document);\n",
              "      </script>\n",
              "      <style>\n",
              "    .colab-df-container {\n",
              "      display:flex;\n",
              "      flex-wrap:wrap;\n",
              "      gap: 12px;\n",
              "    }\n",
              "\n",
              "    .colab-df-convert {\n",
              "      background-color: #E8F0FE;\n",
              "      border: none;\n",
              "      border-radius: 50%;\n",
              "      cursor: pointer;\n",
              "      display: none;\n",
              "      fill: #1967D2;\n",
              "      height: 32px;\n",
              "      padding: 0 0 0 0;\n",
              "      width: 32px;\n",
              "    }\n",
              "\n",
              "    .colab-df-convert:hover {\n",
              "      background-color: #E2EBFA;\n",
              "      box-shadow: 0px 1px 2px rgba(60, 64, 67, 0.3), 0px 1px 3px 1px rgba(60, 64, 67, 0.15);\n",
              "      fill: #174EA6;\n",
              "    }\n",
              "\n",
              "    [theme=dark] .colab-df-convert {\n",
              "      background-color: #3B4455;\n",
              "      fill: #D2E3FC;\n",
              "    }\n",
              "\n",
              "    [theme=dark] .colab-df-convert:hover {\n",
              "      background-color: #434B5C;\n",
              "      box-shadow: 0px 1px 3px 1px rgba(0, 0, 0, 0.15);\n",
              "      filter: drop-shadow(0px 1px 2px rgba(0, 0, 0, 0.3));\n",
              "      fill: #FFFFFF;\n",
              "    }\n",
              "  </style>\n",
              "\n",
              "      <script>\n",
              "        const buttonEl =\n",
              "          document.querySelector('#df-5e99468c-c7e1-4258-b8f2-40e1e0cb213a button.colab-df-convert');\n",
              "        buttonEl.style.display =\n",
              "          google.colab.kernel.accessAllowed ? 'block' : 'none';\n",
              "\n",
              "        async function convertToInteractive(key) {\n",
              "          const element = document.querySelector('#df-5e99468c-c7e1-4258-b8f2-40e1e0cb213a');\n",
              "          const dataTable =\n",
              "            await google.colab.kernel.invokeFunction('convertToInteractive',\n",
              "                                                     [key], {});\n",
              "          if (!dataTable) return;\n",
              "\n",
              "          const docLinkHtml = 'Like what you see? Visit the ' +\n",
              "            '<a target=\"_blank\" href=https://colab.research.google.com/notebooks/data_table.ipynb>data table notebook</a>'\n",
              "            + ' to learn more about interactive tables.';\n",
              "          element.innerHTML = '';\n",
              "          dataTable['output_type'] = 'display_data';\n",
              "          await google.colab.output.renderOutput(dataTable, element);\n",
              "          const docLink = document.createElement('div');\n",
              "          docLink.innerHTML = docLinkHtml;\n",
              "          element.appendChild(docLink);\n",
              "        }\n",
              "      </script>\n",
              "    </div>\n",
              "  </div>\n"
            ],
            "text/plain": [
              "                                          id  \\\n",
              "0       e9ad821a-c438-4965-9f77-760819dfa155   \n",
              "1       e3d3c4e1-4fb2-45e7-9f88-247cc8f373b3   \n",
              "2       5c38bea6-787a-44a9-b2df-88f4218ab914   \n",
              "3       cdeedb04-fbe9-432c-937c-d53ac24475de   \n",
              "4       dc6794a3-b108-47c5-8b1b-3b4931577249   \n",
              "...                                      ...   \n",
              "182817  04519631-61e3-4ef4-b2d6-c352cf349ded   \n",
              "182818  fa6b40a1-459a-401c-96e7-fac5608e7744   \n",
              "182819  4ecebffe-72f6-4988-8d64-738e43ad6086   \n",
              "182820  7cf99676-f2b5-4f6d-9cf5-03ff7651afb3   \n",
              "182821  b6130415-f3ab-464a-8854-9a1811d8f8f9   \n",
              "\n",
              "                                                 question  \\\n",
              "0       Chronic urethral obstruction due to benign pri...   \n",
              "1       Which vitamin is supplied from only animal sou...   \n",
              "2       All of the following are surgical options for ...   \n",
              "3       Following endaerectomy on the right common car...   \n",
              "4        Growth hormone has its effect on growth through?   \n",
              "...                                                   ...   \n",
              "182817  Most common site for extra mammary Paget&;s di...   \n",
              "182818       Inferior Rib notching is seen in all except?   \n",
              "182819  Which is false regarding cryptococcus neoformans?   \n",
              "182820  Histopathological finding of gluten hypersensi...   \n",
              "182821  All except one are centrally acting muscle blo...   \n",
              "\n",
              "                               opa                                  opb  \\\n",
              "0                      Hyperplasia                            Hyperophy   \n",
              "1                        Vitamin C                           Vitamin B7   \n",
              "2       Adjustable gastric banding            Biliopancreatic diversion   \n",
              "3       Central aery of the retina                    Infraorbital aery   \n",
              "4                         Directly                                IG1-1   \n",
              "...                            ...                                  ...   \n",
              "182817                       Vulva                               Vagina   \n",
              "182818          Coarctation of aoa  Classical blalock tausing operation   \n",
              "182819   Grows at 5degC and 37degC                   It has 4 serotypes   \n",
              "182820           Crypt hyperplasia  Increase in thickness of the mucosa   \n",
              "182821                 Meprobamate                             Baclofen   \n",
              "\n",
              "                                 opc                                opd  cop  \\\n",
              "0                            Atrophy                           Dyplasia    2   \n",
              "1                        Vitamin B12                          Vitamin D    2   \n",
              "2                    Duodenal Switch         Roux en Y Duodenal By pass    3   \n",
              "3                      Lacrimal aery                 Nasociliary aretry    0   \n",
              "4                          Thyroxine             Intranuclear receptors    1   \n",
              "...                              ...                                ...  ...   \n",
              "182817                         Penis                               Anus    0   \n",
              "182818               SVC obstruction                  Neurofibromatosis    3   \n",
              "182819               Urease negative  Causes superficial skin infection    2   \n",
              "182820  Distal intestine involvement                Villous hypertrophy    0   \n",
              "182821                      Diazepam                  Dantrolene sodium    3   \n",
              "\n",
              "       choice_type                                                exp  \\\n",
              "0           single  Chronic urethral obstruction because of urinar...   \n",
              "1           single  Ans. (c) Vitamin B12 Ref: Harrison's 19th ed. ...   \n",
              "2            multi  Ans. is 'd' i.e., Roux en Y Duodenal Bypass Ba...   \n",
              "3            multi  The central aery of the retina is a branch of ...   \n",
              "4           single  Ans. is 'b' i.e., IGI-1GH has two major functi...   \n",
              "...            ...                                                ...   \n",
              "182817      single  .It is superficial manifestation of an intradu...   \n",
              "182818       multi  Answer is D (Neurofibromatosis) Neurofibromato...   \n",
              "182819       multi  Ans. is 'c' i e., Urease negative Cryptococcus...   \n",
              "182820      single  Ans. is 'a' i.e., Crypt hyperplasia Histopatho...   \n",
              "182821       multi                                               None   \n",
              "\n",
              "         subject_name                  topic_name  \n",
              "0             Anatomy               Urinary tract  \n",
              "1        Biochemistry       Vitamins and Minerals  \n",
              "2             Surgery  Surgical Treatment Obesity  \n",
              "3       Ophthalmology                        None  \n",
              "4          Physiology                        None  \n",
              "...               ...                         ...  \n",
              "182817        Surgery                     Urology  \n",
              "182818       Medicine                        None  \n",
              "182819   Microbiology                        None  \n",
              "182820      Pathology                      G.I.T.  \n",
              "182821   Pharmacology                        None  \n",
              "\n",
              "[182822 rows x 11 columns]"
            ]
          },
          "execution_count": 7,
          "metadata": {},
          "output_type": "execute_result"
        }
      ],
      "source": [
        "df_train"
      ]
    },
    {
      "cell_type": "code",
      "execution_count": null,
      "metadata": {
        "id": "ZoNZ48S-Fe0d"
      },
      "outputs": [],
      "source": [
        "exp = df_train.exp"
      ]
    },
    {
      "cell_type": "code",
      "execution_count": null,
      "metadata": {
        "colab": {
          "base_uri": "https://localhost:8080/"
        },
        "id": "RiP1H6hEHdc-",
        "outputId": "fc7a149a-cd20-41f0-8cb0-b57c7700c14f"
      },
      "outputs": [
        {
          "data": {
            "text/plain": [
              "21953"
            ]
          },
          "execution_count": 9,
          "metadata": {},
          "output_type": "execute_result"
        }
      ],
      "source": [
        "exp.isnull().sum()"
      ]
    },
    {
      "cell_type": "code",
      "execution_count": null,
      "metadata": {
        "id": "i0psnx35SRz0"
      },
      "outputs": [],
      "source": [
        "exp.dropna(inplace=True)"
      ]
    },
    {
      "cell_type": "code",
      "execution_count": null,
      "metadata": {
        "colab": {
          "base_uri": "https://localhost:8080/"
        },
        "id": "4hhY9b7uJ6VS",
        "outputId": "ddde1aa7-6497-4f3f-b76a-59a23dc81d68"
      },
      "outputs": [
        {
          "data": {
            "text/plain": [
              "160869"
            ]
          },
          "execution_count": 11,
          "metadata": {},
          "output_type": "execute_result"
        }
      ],
      "source": [
        "ls = []\n",
        "for txt in exp:\n",
        "  ls.append(len(txt))\n",
        "\n",
        "len(ls)\n"
      ]
    },
    {
      "cell_type": "code",
      "execution_count": null,
      "metadata": {
        "colab": {
          "base_uri": "https://localhost:8080/"
        },
        "id": "HCpcB4FyKJ95",
        "outputId": "bcf76cc3-ce3c-4477-a8fb-79c32f0c9dac"
      },
      "outputs": [
        {
          "data": {
            "text/plain": [
              "22525"
            ]
          },
          "execution_count": 12,
          "metadata": {},
          "output_type": "execute_result"
        }
      ],
      "source": [
        "max(ls)"
      ]
    },
    {
      "cell_type": "code",
      "execution_count": null,
      "metadata": {
        "id": "4vy12cp8Hdf4"
      },
      "outputs": [],
      "source": []
    },
    {
      "cell_type": "code",
      "execution_count": null,
      "metadata": {
        "id": "WR5kVFOKHwoo"
      },
      "outputs": [],
      "source": [
        "exp.to_csv(\"expfile.csv\")"
      ]
    },
    {
      "cell_type": "code",
      "execution_count": null,
      "metadata": {
        "id": "iUPgoqpIHwt1"
      },
      "outputs": [],
      "source": [
        "from langchain.document_loaders.csv_loader import CSVLoader\n",
        "\n",
        "\n",
        "loader = CSVLoader(file_path='/content/expfile.csv')\n",
        "data = loader.load()"
      ]
    },
    {
      "cell_type": "code",
      "execution_count": null,
      "metadata": {
        "id": "cjUuYr95IdDJ"
      },
      "outputs": [],
      "source": []
    },
    {
      "cell_type": "code",
      "execution_count": null,
      "metadata": {
        "colab": {
          "base_uri": "https://localhost:8080/"
        },
        "id": "Lm6Yl9ZEIdGW",
        "outputId": "73ca0599-7f00-4f33-ca73-95ccd88404d5"
      },
      "outputs": [
        {
          "data": {
            "text/plain": [
              "Document(page_content=\": 10\\nexp: Nagler's reaction - when Clostridium perfringens is grown in media containing 6 % agar, 5% Fildes peptic digest of sheep blood and 20% human serum, with antitoxin spread on one half of plate, colonies in the other half without antitoxin will be surrounded by a zone of opacity. No opacity around the colonies on the half of plate with antitoxin, this is due to the specific neutralization of the alpha-toxin. This specific lecithinase effect, known as the Nagler's reaction. Reference: Textbook of Microbiology; Anathanarayan and paniker's; 10th edition; Page no: 263\", metadata={'source': '/content/expfile.csv', 'row': 10})"
            ]
          },
          "execution_count": 15,
          "metadata": {},
          "output_type": "execute_result"
        }
      ],
      "source": [
        "data[10]"
      ]
    },
    {
      "cell_type": "code",
      "execution_count": null,
      "metadata": {
        "colab": {
          "base_uri": "https://localhost:8080/"
        },
        "id": "FuQEWOmZIRb-",
        "outputId": "a6c054a1-2092-4db3-990c-9f295951dc08"
      },
      "outputs": [
        {
          "name": "stdout",
          "output_type": "stream",
          "text": [
            "234047\n"
          ]
        }
      ],
      "source": [
        "from langchain.text_splitter import RecursiveCharacterTextSplitter\n",
        "\n",
        "def split_docs(documents,chunk_size=800,chunk_overlap=20):\n",
        "  text_splitter = RecursiveCharacterTextSplitter(chunk_size=chunk_size, chunk_overlap=chunk_overlap)\n",
        "  docs = text_splitter.split_documents(documents)\n",
        "  return docs\n",
        "\n",
        "docs = split_docs(data)\n",
        "print(len(docs))"
      ]
    },
    {
      "cell_type": "code",
      "execution_count": null,
      "metadata": {
        "colab": {
          "base_uri": "https://localhost:8080/"
        },
        "id": "oe8LQCuoIRfa",
        "outputId": "16044204-38f1-42e8-bae3-db209e00b0b4"
      },
      "outputs": [
        {
          "data": {
            "text/plain": [
              "Document(page_content=': 6\\nexp: Abnormal vascular pattern include punctation, mosaicism and atypical vessels.', metadata={'source': '/content/expfile.csv', 'row': 6})"
            ]
          },
          "execution_count": 17,
          "metadata": {},
          "output_type": "execute_result"
        }
      ],
      "source": [
        "docs[10]"
      ]
    },
    {
      "cell_type": "code",
      "execution_count": null,
      "metadata": {
        "id": "GUSEC8zaH-UL"
      },
      "outputs": [],
      "source": [
        "from langchain.embeddings import SentenceTransformerEmbeddings\n",
        "embeddings = SentenceTransformerEmbeddings(model_name=\"all-MiniLM-L6-v2\")"
      ]
    },
    {
      "cell_type": "code",
      "execution_count": null,
      "metadata": {
        "id": "GQghOS3IH-Xg"
      },
      "outputs": [],
      "source": []
    },
    {
      "cell_type": "code",
      "execution_count": null,
      "metadata": {
        "id": "U1p7wGiDH-dj"
      },
      "outputs": [],
      "source": []
    },
    {
      "cell_type": "code",
      "execution_count": null,
      "metadata": {
        "id": "HX4NlUtJLLfa"
      },
      "outputs": [],
      "source": [
        "from langchain.vectorstores import Chroma"
      ]
    },
    {
      "cell_type": "code",
      "execution_count": null,
      "metadata": {
        "id": "CsEx-8xuNAwD"
      },
      "outputs": [],
      "source": [
        "db = Chroma.from_documents(docs[0:10000], embeddings)"
      ]
    },
    {
      "cell_type": "code",
      "execution_count": null,
      "metadata": {
        "colab": {
          "base_uri": "https://localhost:8080/"
        },
        "id": "ng_rQARTTHj8",
        "outputId": "983fe47e-b834-497b-c66a-75a856b28ee4"
      },
      "outputs": [
        {
          "data": {
            "text/plain": [
              "Document(page_content=': 195\\nexp: The axial skeleton shapes the longitudinal axis of the human body. Coracoclavicular ligament suspends the scapula from the lower one third of the clavicle and forms a strong bond between them. The weight of the upper limb is transmitted to the axial skeleton through this ligament. A fracture of the clavicle, medial to the attachment of this ligament leads to drooping of upper limb. Ref: TB of Anatomy and Physiology PR Ashalatha, 1st Ed, Page 110', metadata={'source': '/content/expfile.csv', 'row': 174})"
            ]
          },
          "execution_count": 33,
          "metadata": {},
          "output_type": "execute_result"
        }
      ],
      "source": [
        "docs[250]"
      ]
    },
    {
      "cell_type": "code",
      "execution_count": null,
      "metadata": {
        "id": "rKBCvMjpNWHF"
      },
      "outputs": [],
      "source": [
        "query = \"What is axial skeleton?\"\n",
        "matching_docs = db.similarity_search(query)\n",
        "\n"
      ]
    },
    {
      "cell_type": "code",
      "execution_count": null,
      "metadata": {
        "colab": {
          "base_uri": "https://localhost:8080/"
        },
        "id": "qX607uAQNWPR",
        "outputId": "2977a74f-d4b3-4d33-da6b-4e7e72dd5a0f"
      },
      "outputs": [
        {
          "data": {
            "text/plain": [
              "Document(page_content=': 195\\nexp: The axial skeleton shapes the longitudinal axis of the human body. Coracoclavicular ligament suspends the scapula from the lower one third of the clavicle and forms a strong bond between them. The weight of the upper limb is transmitted to the axial skeleton through this ligament. A fracture of the clavicle, medial to the attachment of this ligament leads to drooping of upper limb. Ref: TB of Anatomy and Physiology PR Ashalatha, 1st Ed, Page 110', metadata={'row': 174, 'source': '/content/expfile.csv'})"
            ]
          },
          "execution_count": 35,
          "metadata": {},
          "output_type": "execute_result"
        }
      ],
      "source": [
        "matching_docs[0]"
      ]
    },
    {
      "cell_type": "code",
      "execution_count": null,
      "metadata": {
        "id": "4yAuZOOKNW0H"
      },
      "outputs": [],
      "source": [
        "persist_directory = \"chroma_db\"\n",
        "\n",
        "vectordb = Chroma.from_documents(\n",
        "    documents=docs[0:50000], embedding=embeddings, persist_directory=persist_directory\n",
        ")\n",
        "\n",
        "vectordb.persist()"
      ]
    },
    {
      "cell_type": "code",
      "execution_count": null,
      "metadata": {
        "id": "DH5_u_qqWF4p"
      },
      "outputs": [],
      "source": [
        "/content/drive/MyDrive/VDB"
      ]
    },
    {
      "cell_type": "code",
      "execution_count": null,
      "metadata": {
        "id": "q7Xnlb9WbzYD"
      },
      "outputs": [],
      "source": [
        "! cp /content/expfile.csv /content/drive/MyDrive/VDB"
      ]
    },
    {
      "cell_type": "code",
      "execution_count": null,
      "metadata": {
        "colab": {
          "base_uri": "https://localhost:8080/"
        },
        "id": "0bNxIb2RczJN",
        "outputId": "e4136432-6d07-4269-9f20-d4f8e3e112a7"
      },
      "outputs": [
        {
          "name": "stdout",
          "output_type": "stream",
          "text": [
            "Reading package lists... Done\n",
            "Building dependency tree... Done\n",
            "Reading state information... Done\n",
            "The following NEW packages will be installed:\n",
            "  rar\n",
            "0 upgraded, 1 newly installed, 0 to remove and 15 not upgraded.\n",
            "Need to get 341 kB of archives.\n",
            "After this operation, 1,202 kB of additional disk space will be used.\n",
            "Get:1 http://archive.ubuntu.com/ubuntu jammy/multiverse amd64 rar amd64 2:5.5.0-1.1 [341 kB]\n",
            "Fetched 341 kB in 0s (990 kB/s)\n",
            "Selecting previously unselected package rar.\n",
            "(Reading database ... 120500 files and directories currently installed.)\n",
            "Preparing to unpack .../rar_2%3a5.5.0-1.1_amd64.deb ...\n",
            "Unpacking rar (2:5.5.0-1.1) ...\n",
            "Setting up rar (2:5.5.0-1.1) ...\n",
            "Processing triggers for man-db (2.10.2-1) ...\n"
          ]
        }
      ],
      "source": [
        "!apt-get install rar\n"
      ]
    },
    {
      "cell_type": "code",
      "execution_count": null,
      "metadata": {
        "colab": {
          "base_uri": "https://localhost:8080/"
        },
        "id": "UWWgb-mrcWOs",
        "outputId": "4acfdc6e-b05b-46c7-8234-5406ed037f2d"
      },
      "outputs": [
        {
          "name": "stdout",
          "output_type": "stream",
          "text": [
            "\n",
            "Enter password (will not be echoed): \n",
            "\n",
            "Reenter password: \n",
            "\n",
            "\n",
            "RAR 5.50   Copyright (c) 1993-2017 Alexander Roshal   11 Aug 2017\n",
            "Trial version             Type 'rar -?' for help\n",
            "\n",
            "Evaluation copy. Please register.\n",
            "\n",
            "Creating archive /content/drive/MyDrive/VDB/db.rar\n",
            "\n",
            "Adding    /content/chroma_db/chroma.sqlite3                              \b\b\b\b  1%\b\b\b\b  2%\b\b\b\b  3%\b\b\b\b  5%\b\b\b\b  6%\b\b\b\b  7%\b\b\b\b  9%\b\b\b\b 10%\b\b\b\b 11%\b\b\b\b 13%\b\b\b\b 14%\b\b\b\b 15%\b\b\b\b 17%\b\b\b\b 18%\b\b\b\b 19%\b\b\b\b 21%\b\b\b\b 22%\b\b\b\b 23%\b\b\b\b 25%\b\b\b\b 26%\b\b\b\b 27%\b\b\b\b 28%\b\b\b\b 30%123\n",
            "123\n",
            "\b\b\b\b 31%"
          ]
        }
      ],
      "source": [
        "!rar a -p \"/content/drive/MyDrive/VDB/db.rar\" \"/content/chroma_db\""
      ]
    },
    {
      "cell_type": "code",
      "execution_count": null,
      "metadata": {
        "id": "sjehDeUJg9hs"
      },
      "outputs": [],
      "source": []
    }
  ],
  "metadata": {
    "accelerator": "GPU",
    "colab": {
      "provenance": [],
      "mount_file_id": "1EKecY8CwkVE3hGhZZ4XLqwclWjb1aPjB",
      "authorship_tag": "ABX9TyNuRSOlCLzF/VKwpZt/Tx6O",
      "include_colab_link": true
    },
    "kernelspec": {
      "display_name": "Python 3",
      "name": "python3"
    },
    "language_info": {
      "name": "python"
    }
  },
  "nbformat": 4,
  "nbformat_minor": 0
}